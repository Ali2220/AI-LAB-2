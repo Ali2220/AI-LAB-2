{
 "cells": [
  {
   "cell_type": "code",
   "execution_count": 41,
   "id": "5a8a48fb-2306-44eb-b37f-e4ec4f2531e4",
   "metadata": {},
   "outputs": [
    {
     "name": "stdout",
     "output_type": "stream",
     "text": [
      "120 Km\n",
      "10000\n"
     ]
    }
   ],
   "source": [
    "# Q1\n",
    "class Vehicle:\n",
    "    def __init__(self, max_speed, mileage):\n",
    "        self.max_speed = max_speed\n",
    "        self.mileage = mileage\n",
    "\n",
    "obj = Vehicle(\"120 Km\", 10000)\n",
    "print(obj.max_speed)\n",
    "print(obj.mileage)\n",
    "\n",
    "        "
   ]
  },
  {
   "cell_type": "code",
   "execution_count": 47,
   "id": "c4a39e92-77bb-4e37-906d-eb12bec3e0bf",
   "metadata": {},
   "outputs": [
    {
     "name": "stdout",
     "output_type": "stream",
     "text": [
      "Speed is 150km\n",
      "black\n"
     ]
    }
   ],
   "source": [
    "# Q2\n",
    "class Vehicle:\n",
    "    def speed(self):\n",
    "        print(\"Speed is 150km\")\n",
    "\n",
    "    color = \"black\"\n",
    "\n",
    "class bus(Vehicle):\n",
    "    structure = \"synchronous\"\n",
    "\n",
    "b = bus()\n",
    "b.speed()\n",
    "print(b.color)\n",
    "        \n",
    "    "
   ]
  },
  {
   "cell_type": "code",
   "execution_count": 51,
   "id": "46fdbf8d-811a-4126-a333-90d1e858a33d",
   "metadata": {},
   "outputs": [
    {
     "name": "stdout",
     "output_type": "stream",
     "text": [
      "This bus has a seating capacity of 50 passengers.\n",
      "This bus has a seating capacity of 60 passengers.\n"
     ]
    }
   ],
   "source": [
    "# Q3\n",
    "class Vehicle:\n",
    "    def __init__(self, max_speed, mileage):\n",
    "        self.max_speed = max_speed\n",
    "        self.mileage = mileage\n",
    "\n",
    "class Bus(Vehicle):\n",
    "    def seating_capacity(self, capacity=50):\n",
    "        self.capacity = capacity\n",
    "        return f\"This bus has a seating capacity of {self.capacity} passengers.\"\n",
    "\n",
    "bus = Bus(\"80 Km\", 20000)\n",
    "print(bus.seating_capacity()) \n",
    "print(bus.seating_capacity(60))  \n"
   ]
  },
  {
   "cell_type": "code",
   "execution_count": 52,
   "id": "6322257e-444e-4880-8d18-08edf21aae6a",
   "metadata": {},
   "outputs": [
    {
     "name": "stdout",
     "output_type": "stream",
     "text": [
      "The total fare for the bus is: 5500.0\n"
     ]
    }
   ],
   "source": [
    "# Q4\n",
    "class Vehicle:\n",
    "    def __init__(self, max_speed, mileage):\n",
    "        self.max_speed = max_speed\n",
    "        self.mileage = mileage\n",
    "\n",
    "    def fare(self):\n",
    "    \n",
    "        return self.seating_capacity * 100\n",
    "\n",
    "class Bus(Vehicle):\n",
    "    def __init__(self, max_speed, mileage):\n",
    "        super().__init__(max_speed, mileage)\n",
    "        self.seating_capacity = 50\n",
    "\n",
    "    def fare(self):\n",
    "       \n",
    "        base_fare = super().fare()  \n",
    "        maintenance_charge = 0.10 * base_fare\n",
    "        total_fare = base_fare + maintenance_charge\n",
    "        return total_fare\n",
    "\n",
    "bus = Bus(\"80 Km\", 20000)\n",
    "fare_amount = bus.fare()\n",
    "print(f\"The total fare for the bus is: {fare_amount}\")  \n"
   ]
  },
  {
   "cell_type": "code",
   "execution_count": 68,
   "id": "0fd96b56-df0b-4573-b1ff-781279737c11",
   "metadata": {},
   "outputs": [
    {
     "name": "stdout",
     "output_type": "stream",
     "text": [
      "Buddy is a Mammal of age 3.\n",
      "Buddy makes a barking sound.\n"
     ]
    }
   ],
   "source": [
    "# Q5\n",
    "class Dog:\n",
    "    def __init__(self, name, age):\n",
    "        self.species = \"Mammal\"\n",
    "        self.name = name\n",
    "        self.age = age\n",
    "\n",
    "    def description(self):\n",
    "        return f\"{self.name} is a {self.species} of age {self.age}.\"\n",
    "\n",
    "    def sound(self):\n",
    "        return f\"{self.name} makes a barking sound.\"\n",
    "\n",
    "my_dog = Dog(\"Buddy\", 3)\n",
    "print(my_dog.description())  #\n",
    "print(my_dog.sound())  \n",
    "\n",
    "        "
   ]
  },
  {
   "cell_type": "code",
   "execution_count": 69,
   "id": "774e4372-2e11-4a7c-a6af-8fc80170cc11",
   "metadata": {},
   "outputs": [
    {
     "name": "stdout",
     "output_type": "stream",
     "text": [
      "Rex is a Mammal of age 4.\n",
      "Rex makes a generic dog sound.\n",
      "Buddy is a Mammal of age 2.\n",
      "Buddy makes a bulldog sound.\n",
      "Rusty is a Mammal of age 1.\n",
      "Rusty makes a Russell Terrier sound.\n"
     ]
    }
   ],
   "source": [
    "# Q6\n",
    "class Dog:\n",
    "    def __init__(self, name, age):\n",
    "        self.species = \"Mammal\"\n",
    "        self.name = name\n",
    "        self.age = age\n",
    "\n",
    "    def description(self):\n",
    "        return f\"{self.name} is a {self.species} of age {self.age}.\"\n",
    "\n",
    "    def sound(self):\n",
    "        return f\"{self.name} makes a generic dog sound.\"\n",
    "\n",
    "class Bulldog(Dog):\n",
    "    def sound(self):\n",
    "        return f\"{self.name} makes a bulldog sound.\"\n",
    "\n",
    "class RussellTerrier(Dog):\n",
    "    def sound(self):\n",
    "        return f\"{self.name} makes a Russell Terrier sound.\"\n",
    "\n",
    "\n",
    "dog1 = Dog(\"Rex\", 4)\n",
    "bulldog1 = Bulldog(\"Buddy\", 2)\n",
    "russell_terrier1 = RussellTerrier(\"Rusty\", 1)\n",
    "\n",
    "\n",
    "print(dog1.description())  \n",
    "print(dog1.sound())  \n",
    "\n",
    "print(bulldog1.description())  \n",
    "print(bulldog1.sound()) \n",
    "\n",
    "print(russell_terrier1.description())  \n",
    "print(russell_terrier1.sound()) \n",
    "\n"
   ]
  },
  {
   "cell_type": "code",
   "execution_count": 70,
   "id": "1dfe95ef-c080-463a-8c61-339d637313d8",
   "metadata": {},
   "outputs": [
    {
     "name": "stdout",
     "output_type": "stream",
     "text": [
      "Rex is a dog and is 4 years old.\n",
      "Rex barks.\n",
      "Buddy is a dog and is 2 years old.\n",
      "Buddy (a Bulldog) barks like a Bulldog.\n",
      "Rusty is a dog and is 1 years old.\n",
      "Rusty (a Russell Terrier) barks like a Russell Terrier.\n"
     ]
    }
   ],
   "source": [
    "# Q7\n",
    "class Dog:\n",
    "    def __init__(self, name, age):\n",
    "        self.name = name\n",
    "        self.age = age\n",
    "\n",
    "    def description(self):\n",
    "        return f\"{self.name} is a dog and is {self.age} years old.\"\n",
    "\n",
    "    def sound(self):\n",
    "        return f\"{self.name} barks.\"\n",
    "\n",
    "class Bulldog(Dog):\n",
    "    def sound(self):\n",
    "        return f\"{self.name} (a Bulldog) barks like a Bulldog.\"\n",
    "\n",
    "class RussellTerrier(Dog):\n",
    "    def sound(self):\n",
    "        return f\"{self.name} (a Russell Terrier) barks like a Russell Terrier.\"\n",
    "\n",
    "\n",
    "dog1 = Dog(\"Rex\", 4)\n",
    "bulldog1 = Bulldog(\"Buddy\", 2)\n",
    "russell_terrier1 = RussellTerrier(\"Rusty\", 1)\n",
    "\n",
    "\n",
    "print(dog1.description()) \n",
    "print(dog1.sound())  \n",
    "\n",
    "print(bulldog1.description())  \n",
    "print(bulldog1.sound())  \n",
    "\n",
    "print(russell_terrier1.description())  \n",
    "print(russell_terrier1.sound())  \n"
   ]
  },
  {
   "cell_type": "code",
   "execution_count": 84,
   "id": "9cce34cb-3c1e-4dbd-be56-f15e9d89c1b3",
   "metadata": {},
   "outputs": [
    {
     "name": "stdout",
     "output_type": "stream",
     "text": [
      "I am a Computer Science Student\n",
      "Computer Science with Python new Edition has been purchased\n",
      "Showing the Available books\n",
      "420\n",
      "$999\n",
      "Defence Housing Society\n",
      "03353773462\n"
     ]
    }
   ],
   "source": [
    "# Q8\n",
    "class Person:\n",
    "    name = \"Ali Sarwar\"\n",
    "\n",
    "    def whoYouAre(self):\n",
    "        print(\"I am a Computer Science Student\")\n",
    "\n",
    "class Author(Person):\n",
    "    books = \"Computer Science with Python \"\n",
    "    def newBook(self):\n",
    "        print(\"Computer Science with Python new Edition\")\n",
    "    def showBook(self):\n",
    "        print(\"Books show in the library\")\n",
    "    def whoYouAre(self):\n",
    "        print(\"I am a Computer Science Student\")\n",
    "\n",
    "class Reader(Person):\n",
    "    books = \"Philosophy and critical thinking\"\n",
    "    def __init__(self):\n",
    "        print(\"Computer Science with Python new Edition has been purchased\")\n",
    "    def borrowBook(self):\n",
    "        print(\"Borrow the book of AI with Ali\")\n",
    "    def returnBook(self):\n",
    "        print(\"Return the book of AI to Ali\")\n",
    "    def showBook(self):\n",
    "        print(\"Showing the Available books\")\n",
    "\n",
    "class Book:\n",
    "    bookId = 420\n",
    "    author = \"Cristiano Ronaldo\"\n",
    "    name = \"Anything for Passion\"\n",
    "    price = \"$999\"\n",
    "    edition = \"2nd Edition\"\n",
    "    dateOfPurchase = \"21/july/2023\"\n",
    "    def title(self):\n",
    "        print(\"Champions League\")\n",
    "    def author(self):\n",
    "        print(\"Cristiano Ronaldo\")\n",
    "    def display(self):\n",
    "        return none\n",
    "    def update_status(self):\n",
    "        status = \"Not updated\"\n",
    "        updatedStatus = \"Author change to Lionel Pessi\"\n",
    "\n",
    "class journals(Book):\n",
    "    pass\n",
    "class studyBooks(Book):\n",
    "    pass\n",
    "class Magazines(Book):\n",
    "    pass\n",
    "\n",
    "\n",
    "class member:\n",
    "    id = 21054\n",
    "    dateOfMembership = \"21/Aug/2023\"\n",
    "    bookLimit = 2\n",
    "    phoneNo = \"03353773462\"\n",
    "    address = \"Defence Housing Society\"\n",
    "\n",
    "class Student(member):\n",
    "    pass\n",
    "\n",
    "aut = Author()\n",
    "aut.whoYouAre()\n",
    "Rea = Reader()\n",
    "Rea.showBook()\n",
    "\n",
    "jou = journals()\n",
    "print(jou.bookId)\n",
    "print(jou.price)\n",
    "\n",
    "stu = Student()\n",
    "print(stu.address)\n",
    "print(stu.phoneNo)"
   ]
  },
  {
   "cell_type": "code",
   "execution_count": null,
   "id": "883b5110-5a1b-4b74-b261-5c840708b502",
   "metadata": {},
   "outputs": [],
   "source": []
  }
 ],
 "metadata": {
  "kernelspec": {
   "display_name": "Python 3 (ipykernel)",
   "language": "python",
   "name": "python3"
  },
  "language_info": {
   "codemirror_mode": {
    "name": "ipython",
    "version": 3
   },
   "file_extension": ".py",
   "mimetype": "text/x-python",
   "name": "python",
   "nbconvert_exporter": "python",
   "pygments_lexer": "ipython3",
   "version": "3.12.0"
  }
 },
 "nbformat": 4,
 "nbformat_minor": 5
}
